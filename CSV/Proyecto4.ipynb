{
 "cells": [
  {
   "cell_type": "code",
   "execution_count": 1,
   "id": "99fdcd39",
   "metadata": {},
   "outputs": [],
   "source": [
    "import pandas as pd"
   ]
  },
  {
   "cell_type": "code",
   "execution_count": 3,
   "id": "ae999786",
   "metadata": {},
   "outputs": [],
   "source": [
    "netflix = pd.read_csv(\"C:/Users/noeli/Desktop/Proyecto4/netflix_titles.csv\")\n",
    "disney = pd.read_csv(\"C:/Users/noeli/Desktop/Proyecto4/disney_plus_titles.csv\")\n",
    "prime = pd.read_csv(\"C:/Users/noeli/Desktop/Proyecto4/amazon_prime_titles.csv\")"
   ]
  },
  {
   "cell_type": "code",
   "execution_count": null,
   "id": "f3b97e66",
   "metadata": {},
   "outputs": [],
   "source": [
    "prime"
   ]
  },
  {
   "cell_type": "code",
   "execution_count": null,
   "id": "34d49f7c",
   "metadata": {},
   "outputs": [],
   "source": [
    "disney"
   ]
  },
  {
   "cell_type": "code",
   "execution_count": null,
   "id": "3ea0735d",
   "metadata": {},
   "outputs": [],
   "source": [
    "netflix"
   ]
  }
 ],
 "metadata": {
  "kernelspec": {
   "display_name": "Python 3",
   "language": "python",
   "name": "python3"
  },
  "language_info": {
   "codemirror_mode": {
    "name": "ipython",
    "version": 3
   },
   "file_extension": ".py",
   "mimetype": "text/x-python",
   "name": "python",
   "nbconvert_exporter": "python",
   "pygments_lexer": "ipython3",
   "version": "3.11.0"
  }
 },
 "nbformat": 4,
 "nbformat_minor": 5
}
