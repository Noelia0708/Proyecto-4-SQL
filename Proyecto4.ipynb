{
 "cells": [
  {
   "cell_type": "code",
   "execution_count": 1,
   "id": "f24274f4",
   "metadata": {},
   "outputs": [],
   "source": [
    "import pandas as pd\n",
    "import numpy as np"
   ]
  },
  {
   "cell_type": "code",
   "execution_count": 2,
   "id": "6dc341b3",
   "metadata": {},
   "outputs": [],
   "source": [
    "df_original = pd.read_csv(\"CSV/proyecto4.csv\")\n"
   ]
  },
  {
   "cell_type": "code",
   "execution_count": 3,
   "id": "bd177c2a",
   "metadata": {},
   "outputs": [
    {
     "data": {
      "text/plain": [
       "Index(['show_id', 'type', 'title', 'director', 'cast', 'country',\n",
       "       'release_year', 'rating', 'duration', 'listed_in', 'plataforma'],\n",
       "      dtype='object')"
      ]
     },
     "execution_count": 3,
     "metadata": {},
     "output_type": "execute_result"
    }
   ],
   "source": [
    "df_original.columns"
   ]
  },
  {
   "cell_type": "code",
   "execution_count": 4,
   "id": "5870afe0",
   "metadata": {},
   "outputs": [],
   "source": [
    "# Crear tabla con los tipos \n",
    "data_tipos = [{'type_id': 1, 'type_name': 'Movie'}, {'type_id': 2, 'type_name': 'TV Show'}]\n",
    "\n",
    "df_tipos = pd.DataFrame(data_tipos)\n",
    "\n",
    "# Guardar la tabla como un archivo CSV\n",
    "df_tipos.to_csv('tipos.csv', index=False, encoding='utf-8')"
   ]
  },
  {
   "cell_type": "code",
   "execution_count": 5,
   "id": "966771e7",
   "metadata": {},
   "outputs": [],
   "source": [
    "# Crear tabla de directores\n",
    "\n",
    "df_directores = df_original[['show_id', 'director']].copy()\n",
    "\n",
    "\n",
    "df_directores['director'] = df_directores['director'].fillna('') \n",
    "\n",
    "df_directores = df_directores.assign(director=df_directores['director'].str.split(', ')).explode('director')\n",
    "\n",
    "df_directores['director'] = df_directores['director'].str.strip()\n",
    "\n",
    "df_directores = df_directores[df_directores['director'] != '']\n",
    "\n",
    "df_directores_final = df_directores['director'].drop_duplicates().reset_index(drop=True).to_frame()\n",
    "\n",
    "df_directores_final = df_directores_final.reset_index()\n",
    "df_directores_final = df_directores_final.rename(columns={'index': 'director_id', 'director': 'director_name'})\n",
    "\n",
    "# Asegurar que el ID empiece en 1\n",
    "df_directores_final['director_id'] = df_directores_final['director_id'] + 1\n",
    "\n",
    "# Guardar la tabla única de directores\n",
    "df_directores_final.to_csv('directores.csv', index=False, encoding='utf-8')"
   ]
  },
  {
   "cell_type": "code",
   "execution_count": 6,
   "id": "12f7a7a3",
   "metadata": {},
   "outputs": [],
   "source": [
    "# Crear tabla de cast\n",
    "\n",
    "df_actores = df_original[['show_id', 'cast']].copy()\n",
    "\n",
    "df_actores['cast'] = df_actores['cast'].fillna('') \n",
    "\n",
    "# Se crea una fila única para cada actor, repitiendo el show_id.\n",
    "df_actores = df_actores.assign(cast=df_actores['cast'].str.split(', ')).explode('cast')\n",
    "\n",
    "df_actores['cast'] = df_actores['cast'].str.strip()\n",
    "\n",
    "df_actores = df_actores[df_actores['cast'] != '']\n",
    "\n",
    "df_actores_final = df_actores['cast'].drop_duplicates().reset_index(drop=True).to_frame()\n",
    "\n",
    "\n",
    "df_actores_final = df_actores_final.reset_index()\n",
    "df_actores_final = df_actores_final.rename(columns={'index': 'cast_id', 'cast': 'cast_name'})\n",
    "\n",
    "# Asegurar que el ID empiece en 1 \n",
    "df_actores_final['cast_id'] = df_actores_final['cast_id'] + 1\n",
    "\n",
    "# 4. Guardar la tabla única de actores\n",
    "df_actores_final.to_csv('actores.csv', index=False, encoding='utf-8')"
   ]
  },
  {
   "cell_type": "code",
   "execution_count": 7,
   "id": "0e51259f",
   "metadata": {},
   "outputs": [],
   "source": [
    "# TABLA PLATAFORMA. \n",
    "plataforma = df_original['plataforma']\n",
    "valores_unicos = df_original['plataforma'].unique() #Sacar los valores unicos \n",
    "plataforma_unicos = pd.DataFrame({'plataforma': valores_unicos})\n",
    "plataforma_unicos['plataforma_id'] = range(1, len(plataforma_unicos) + 1)\n",
    "plataforma_unicos = plataforma_unicos[['plataforma_id', 'plataforma']]"
   ]
  },
  {
   "cell_type": "code",
   "execution_count": 8,
   "id": "db08b1e6",
   "metadata": {},
   "outputs": [],
   "source": [
    "year = df_original['release_year']\n",
    "valores_year = df_original['release_year'].unique()\n",
    "year_tratado = pd.DataFrame({'release_year': valores_year})\n",
    "year_unicos = year_tratado.sort_values(by='release_year', ascending=False)\n",
    "year_unicos['release_year_id'] = range(1,len(year_unicos) + 1)\n",
    "year_unicos = year_unicos[['release_year_id', 'release_year']]"
   ]
  },
  {
   "cell_type": "code",
   "execution_count": 9,
   "id": "bb93155d",
   "metadata": {},
   "outputs": [],
   "source": [
    "# Tratamiento de country como columna. Lo primero que hacemos es tratar los missing values. Después, normalizamos todo para poder quedarnos con el primer value que aparece\n",
    "df_original['country'] = df_original['country'].replace({'Missing values': 'Desconocido'})\n",
    "df_original['country'] = df_original['country'].astype(str).apply(lambda x: x.split(',')[0].strip())\n",
    "df_original['country'] = df_original['country'].apply(lambda x: x.split(',')[0].strip())"
   ]
  },
  {
   "cell_type": "code",
   "execution_count": 10,
   "id": "7089fcb4",
   "metadata": {},
   "outputs": [],
   "source": [
    "# TABLA COUNTRY\n",
    "country = df_original['country']\n",
    "valores_country = df_original['country'].unique()\n",
    "country_tratado = pd.DataFrame({'country': valores_country})\n",
    "country_unicos = country_tratado.sort_values(by='country', ascending=True)\n",
    "country_unicos['country_id'] = range(1,len(country_unicos) + 1)\n",
    "country_unicos = country_unicos[['country_id', 'country']]"
   ]
  },
  {
   "cell_type": "code",
   "execution_count": 11,
   "id": "7b708599",
   "metadata": {},
   "outputs": [],
   "source": [
    "# Tratamiento de genero como columna. Lo primero que hacemos es normalizar para poder tratar los values como valores unicos. Después, nos hemos quedado con los primeros valores \n",
    "df_original['listed_in'] = df_original['listed_in'].astype(str).apply(lambda x: x.split(',')[0].strip())\n",
    "df_original['listed_in'] = df_original['listed_in'].apply(lambda x: x.split(',')[0].strip())"
   ]
  },
  {
   "cell_type": "code",
   "execution_count": 12,
   "id": "be586c16",
   "metadata": {},
   "outputs": [],
   "source": [
    "#Tabla Genero\n",
    "genero = df_original['listed_in']\n",
    "valores_genero = df_original['listed_in'].unique()\n",
    "genero_tratado = pd.DataFrame({'listed_in': valores_genero})\n",
    "genero_unicos = genero_tratado.sort_values(by='listed_in', ascending=True)\n",
    "genero_unicos['listed_in_id'] = range(1,len(genero_unicos) + 1)\n",
    "genero_unicos = genero_unicos[['listed_in_id', 'listed_in']]"
   ]
  },
  {
   "cell_type": "code",
   "execution_count": 13,
   "id": "4d38f592",
   "metadata": {},
   "outputs": [],
   "source": [
    "# TABLA TITULOS\n",
    "titulo = df_original['title']\n",
    "titulo_unicos = df_original['title'].unique() #Sacar los valores unicos \n",
    "titulo_unicos = pd.DataFrame({'title': titulo_unicos})\n",
    "titulo_unicos['title_id'] = range(1, len(titulo_unicos) + 1)\n",
    "titulo_unicos = titulo_unicos[['title_id', 'title']]"
   ]
  },
  {
   "cell_type": "code",
   "execution_count": 14,
   "id": "fabc84d8",
   "metadata": {},
   "outputs": [],
   "source": [
    "plataforma_unicos.to_csv('CSV/plataforma.csv', index=False, encoding='utf-8')\n",
    "year_unicos.to_csv('CSV/año.csv', index=False, encoding='utf-8')\n",
    "country_unicos.to_csv('CSV/pais.csv', index=False, encoding='utf-8')\n",
    "genero_unicos.to_csv('CSV/genero.csv', index=False, encoding='utf-8')\n",
    "titulo_unicos.to_csv('CSV/titulo.csv', index=False, encoding='utf-8')"
   ]
  },
  {
   "cell_type": "code",
   "execution_count": null,
   "id": "d9d00180",
   "metadata": {},
   "outputs": [],
   "source": []
  },
  {
   "cell_type": "code",
   "execution_count": null,
   "id": "4259bfc9",
   "metadata": {},
   "outputs": [],
   "source": []
  },
  {
   "cell_type": "code",
   "execution_count": 15,
   "id": "3cfd3093",
   "metadata": {},
   "outputs": [],
   "source": [
    "\n",
    "\n",
    "df_temp = df_original[['show_id', 'cast']].copy()\n",
    "\n",
    "df_temp['cast'] = df_temp['cast'].fillna('') \n",
    "\n",
    "df_actores_intermedio = df_temp.assign(\n",
    "    cast_name=df_temp['cast'].str.split(', ')\n",
    ").explode('cast_name')\n",
    "\n",
    "df_actores_intermedio['cast_name'] = df_actores_intermedio['cast_name'].str.strip()\n",
    "\n",
    "df_actores_intermedio = df_actores_intermedio[df_actores_intermedio['cast_name'] != '']\n",
    "\n",
    "df_actores_intermedio = df_actores_intermedio[['show_id', 'cast_name']]\n"
   ]
  },
  {
   "cell_type": "code",
   "execution_count": 16,
   "id": "95ea3523",
   "metadata": {},
   "outputs": [],
   "source": [
    "# Tabla puente show_actor\n",
    "\n",
    "df_title_cast = pd.merge(\n",
    "    df_actores_intermedio, \n",
    "    df_actores_final,       \n",
    "    on='cast_name',        \n",
    "    how='left'              \n",
    ")\n",
    "\n",
    "df_title_cast = df_title_cast[['show_id', 'cast_id']]\n",
    "\n",
    "df_title_cast = df_title_cast.drop_duplicates().reset_index(drop=True)\n",
    "\n",
    "# Guardar la tabla puente como un archivo CSV\n",
    "df_title_cast.to_csv('show_actor.csv', index=False, encoding='utf-8')"
   ]
  },
  {
   "cell_type": "code",
   "execution_count": 17,
   "id": "f51eabcf",
   "metadata": {},
   "outputs": [],
   "source": [
    "# Tabla puente show_genre\n",
    "\n",
    "df_temp_generos = df_original[['show_id', 'listed_in']].copy()\n",
    "\n",
    "df_temp_generos['listed_in'] = df_temp_generos['listed_in'].fillna('') \n",
    "\n",
    "df_generos_intermedio = df_temp_generos.assign(\n",
    "    genre_name=df_temp_generos['listed_in'].str.split(', ')\n",
    ").explode('genre_name')\n",
    "\n",
    "df_generos_intermedio['genre_name'] = df_generos_intermedio['genre_name'].str.strip()\n",
    "df_generos_intermedio = df_generos_intermedio[df_generos_intermedio['genre_name'] != '']\n",
    "\n",
    "df_generos_intermedio = df_generos_intermedio[['show_id', 'genre_name']]\n",
    "\n",
    "df_genero_referencia = genero_unicos.rename(columns={'listed_in_id': 'genre_id', 'listed_in': 'genre_name'})\n",
    "\n",
    "df_title_genre = pd.merge(\n",
    "    df_generos_intermedio, \n",
    "    df_genero_referencia[['genre_id', 'genre_name']], \n",
    "    on='genre_name',       \n",
    "    how='left'              \n",
    ")\n",
    "\n",
    "df_title_genre = df_title_genre[['show_id', 'genre_id']]\n",
    "\n",
    "df_title_genre = df_title_genre.drop_duplicates().reset_index(drop=True)\n",
    "\n",
    "# Guardar la tabla puente como un archivo CSV\n",
    "df_title_genre.to_csv('show_genre.csv', index=False, encoding='utf-8')"
   ]
  },
  {
   "cell_type": "code",
   "execution_count": 18,
   "id": "9fbe68d9",
   "metadata": {},
   "outputs": [],
   "source": [
    "# Tabla puente show_director\n",
    "\n",
    "df_temp_directores = df_original[['show_id', 'director']].copy()\n",
    "\n",
    "df_temp_directores['director'] = df_temp_directores['director'].fillna('') \n",
    "\n",
    "df_directores_intermedio = df_temp_directores.assign(\n",
    "    director_name=df_temp_directores['director'].str.split(', ')\n",
    ").explode('director_name')\n",
    " \n",
    "df_directores_intermedio['director_name'] = df_directores_intermedio['director_name'].str.strip()\n",
    "df_directores_intermedio = df_directores_intermedio[df_directores_intermedio['director_name'] != '']\n",
    "\n",
    "df_directores_intermedio = df_directores_intermedio[['show_id', 'director_name']]\n",
    "\n",
    "df_title_director = pd.merge(\n",
    "    df_directores_intermedio,  \n",
    "    df_directores_final[['director_id', 'director_name']], \n",
    "    on='director_name',        \n",
    "    how='left'              \n",
    ")\n",
    "\n",
    "df_title_director = df_title_director[['show_id', 'director_id']]\n",
    "\n",
    "df_title_director = df_title_director.drop_duplicates().reset_index(drop=True)\n",
    "\n",
    "# Guardar la tabla puente como un archivo CSV\n",
    "df_title_director.to_csv('show_director.csv', index=False, encoding='utf-8')"
   ]
  },
  {
   "cell_type": "code",
   "execution_count": 19,
   "id": "4d2e6407",
   "metadata": {},
   "outputs": [],
   "source": [
    "# Tabla puente show_country\n",
    "\n",
    "df_temp_paises = df_original[['show_id', 'country']].copy()\n",
    "df_temp_paises['country'] = df_temp_paises['country'].fillna('') \n",
    "\n",
    "df_paises_intermedio = df_temp_paises.assign(\n",
    "    country_name=df_temp_paises['country'].str.split(', ')\n",
    ").explode('country_name')\n",
    "\n",
    "df_paises_intermedio['country_name'] = df_paises_intermedio['country_name'].str.strip()\n",
    "df_paises_intermedio = df_paises_intermedio[df_paises_intermedio['country_name'] != '']\n",
    "\n",
    "df_paises_intermedio = df_paises_intermedio[['show_id', 'country_name']]\n",
    "\n",
    "df_referencia_paises = country_unicos.rename(columns={'country': 'country_name'})\n",
    "\n",
    "df_title_country = pd.merge(\n",
    "    df_paises_intermedio,       \n",
    "    df_referencia_paises,      \n",
    "    on='country_name',        \n",
    "    how='left'              \n",
    ")\n",
    "\n",
    "df_title_country = df_title_country[['show_id', 'country_id']]\n",
    "\n",
    "df_title_country = df_title_country.drop_duplicates().reset_index(drop=True)\n",
    "\n",
    "# Guardar la tabla puente como un archivo CSV\n",
    "df_title_country.to_csv('show_country.csv', index=False,encoding='utf-8')"
   ]
  },
  {
   "cell_type": "code",
   "execution_count": 21,
   "id": "4c291244",
   "metadata": {},
   "outputs": [
    {
     "ename": "NameError",
     "evalue": "name 'df_titles' is not defined",
     "output_type": "error",
     "traceback": [
      "\u001b[1;31m---------------------------------------------------------------------------\u001b[0m",
      "\u001b[1;31mNameError\u001b[0m                                 Traceback (most recent call last)",
      "Cell \u001b[1;32mIn[21], line 4\u001b[0m\n\u001b[0;32m      1\u001b[0m \u001b[38;5;66;03m# Tabla principal\u001b[39;00m\n\u001b[0;32m      3\u001b[0m df_titles \u001b[38;5;241m=\u001b[39m pd\u001b[38;5;241m.\u001b[39mmerge(\n\u001b[1;32m----> 4\u001b[0m     df_titles,\n\u001b[0;32m      5\u001b[0m     year_unicos\u001b[38;5;241m.\u001b[39mrename(columns\u001b[38;5;241m=\u001b[39m{\u001b[38;5;124m'\u001b[39m\u001b[38;5;124mrelease_year_id\u001b[39m\u001b[38;5;124m'\u001b[39m: \u001b[38;5;124m'\u001b[39m\u001b[38;5;124myear_id\u001b[39m\u001b[38;5;124m'\u001b[39m}),\n\u001b[0;32m      6\u001b[0m     on\u001b[38;5;241m=\u001b[39m\u001b[38;5;124m'\u001b[39m\u001b[38;5;124mrelease_year\u001b[39m\u001b[38;5;124m'\u001b[39m,\n\u001b[0;32m      7\u001b[0m     how\u001b[38;5;241m=\u001b[39m\u001b[38;5;124m'\u001b[39m\u001b[38;5;124mleft\u001b[39m\u001b[38;5;124m'\u001b[39m\n\u001b[0;32m      8\u001b[0m )\u001b[38;5;241m.\u001b[39mdrop(columns\u001b[38;5;241m=\u001b[39m[\u001b[38;5;124m'\u001b[39m\u001b[38;5;124mrelease_year\u001b[39m\u001b[38;5;124m'\u001b[39m]) \n\u001b[0;32m     10\u001b[0m df_titles \u001b[38;5;241m=\u001b[39m pd\u001b[38;5;241m.\u001b[39mmerge(\n\u001b[0;32m     11\u001b[0m     df_titles,\n\u001b[0;32m     12\u001b[0m     df_tipos\u001b[38;5;241m.\u001b[39mrename(columns\u001b[38;5;241m=\u001b[39m{\u001b[38;5;124m'\u001b[39m\u001b[38;5;124mtype_name\u001b[39m\u001b[38;5;124m'\u001b[39m: \u001b[38;5;124m'\u001b[39m\u001b[38;5;124mtype\u001b[39m\u001b[38;5;124m'\u001b[39m}),\n\u001b[0;32m     13\u001b[0m     on\u001b[38;5;241m=\u001b[39m\u001b[38;5;124m'\u001b[39m\u001b[38;5;124mtype\u001b[39m\u001b[38;5;124m'\u001b[39m,\n\u001b[0;32m     14\u001b[0m     how\u001b[38;5;241m=\u001b[39m\u001b[38;5;124m'\u001b[39m\u001b[38;5;124mleft\u001b[39m\u001b[38;5;124m'\u001b[39m\n\u001b[0;32m     15\u001b[0m )\u001b[38;5;241m.\u001b[39mdrop(columns\u001b[38;5;241m=\u001b[39m[\u001b[38;5;124m'\u001b[39m\u001b[38;5;124mtype\u001b[39m\u001b[38;5;124m'\u001b[39m])\n\u001b[0;32m     17\u001b[0m df_titles \u001b[38;5;241m=\u001b[39m pd\u001b[38;5;241m.\u001b[39mmerge(\n\u001b[0;32m     18\u001b[0m     df_titles,\n\u001b[0;32m     19\u001b[0m     plataforma_unicos\u001b[38;5;241m.\u001b[39mrename(columns\u001b[38;5;241m=\u001b[39m{\u001b[38;5;124m'\u001b[39m\u001b[38;5;124mplataforma_id\u001b[39m\u001b[38;5;124m'\u001b[39m: \u001b[38;5;124m'\u001b[39m\u001b[38;5;124mplatform_id\u001b[39m\u001b[38;5;124m'\u001b[39m}),\n\u001b[0;32m     20\u001b[0m     on\u001b[38;5;241m=\u001b[39m\u001b[38;5;124m'\u001b[39m\u001b[38;5;124mplataforma\u001b[39m\u001b[38;5;124m'\u001b[39m,\n\u001b[0;32m     21\u001b[0m     how\u001b[38;5;241m=\u001b[39m\u001b[38;5;124m'\u001b[39m\u001b[38;5;124mleft\u001b[39m\u001b[38;5;124m'\u001b[39m\n\u001b[0;32m     22\u001b[0m )\u001b[38;5;241m.\u001b[39mdrop(columns\u001b[38;5;241m=\u001b[39m[\u001b[38;5;124m'\u001b[39m\u001b[38;5;124mplataforma\u001b[39m\u001b[38;5;124m'\u001b[39m])\n",
      "\u001b[1;31mNameError\u001b[0m: name 'df_titles' is not defined"
     ]
    }
   ],
   "source": [
    "# Tabla principal\n",
    "\n",
    "df_titles = pd.merge(\n",
    "    df_titles,\n",
    "    year_unicos.rename(columns={'release_year_id': 'year_id'}),\n",
    "    on='release_year',\n",
    "    how='left'\n",
    ").drop(columns=['release_year']) \n",
    "\n",
    "df_titles = pd.merge(\n",
    "    df_titles,\n",
    "    df_tipos.rename(columns={'type_name': 'type'}),\n",
    "    on='type',\n",
    "    how='left'\n",
    ").drop(columns=['type'])\n",
    "\n",
    "df_titles = pd.merge(\n",
    "    df_titles,\n",
    "    plataforma_unicos.rename(columns={'plataforma_id': 'platform_id'}),\n",
    "    on='plataforma',\n",
    "    how='left'\n",
    ").drop(columns=['plataforma'])\n",
    "\n",
    "df_titles_final = df_titles[[\n",
    "    'show_id', 'title', 'rating', 'duration', \n",
    "    'year_id', 'type_id', 'platform_id'\n",
    "]].copy()\n",
    "\n",
    "# Guardar la tabla principal\n",
    "df_titles_final.to_csv('tabla_titles.csv', index=False, encoding='utf-8')\n"
   ]
  },
  {
   "cell_type": "code",
   "execution_count": null,
   "id": "82d378af",
   "metadata": {},
   "outputs": [
    {
     "data": {
      "text/html": [
       "<div>\n",
       "<style scoped>\n",
       "    .dataframe tbody tr th:only-of-type {\n",
       "        vertical-align: middle;\n",
       "    }\n",
       "\n",
       "    .dataframe tbody tr th {\n",
       "        vertical-align: top;\n",
       "    }\n",
       "\n",
       "    .dataframe thead th {\n",
       "        text-align: right;\n",
       "    }\n",
       "</style>\n",
       "<table border=\"1\" class=\"dataframe\">\n",
       "  <thead>\n",
       "    <tr style=\"text-align: right;\">\n",
       "      <th></th>\n",
       "      <th>show_id</th>\n",
       "      <th>title</th>\n",
       "      <th>rating</th>\n",
       "      <th>duration</th>\n",
       "      <th>year_id</th>\n",
       "      <th>type_id</th>\n",
       "      <th>platform_id</th>\n",
       "    </tr>\n",
       "  </thead>\n",
       "  <tbody>\n",
       "    <tr>\n",
       "      <th>0</th>\n",
       "      <td>1</td>\n",
       "      <td>Dick Johnson Is Dead</td>\n",
       "      <td>PG-13</td>\n",
       "      <td>90 min</td>\n",
       "      <td>2</td>\n",
       "      <td>1</td>\n",
       "      <td>1</td>\n",
       "    </tr>\n",
       "    <tr>\n",
       "      <th>1</th>\n",
       "      <td>2</td>\n",
       "      <td>Blood &amp; Water</td>\n",
       "      <td>TV-MA</td>\n",
       "      <td>2 Seasons</td>\n",
       "      <td>1</td>\n",
       "      <td>2</td>\n",
       "      <td>1</td>\n",
       "    </tr>\n",
       "    <tr>\n",
       "      <th>2</th>\n",
       "      <td>3</td>\n",
       "      <td>Ganglands</td>\n",
       "      <td>TV-MA</td>\n",
       "      <td>1 Season</td>\n",
       "      <td>1</td>\n",
       "      <td>2</td>\n",
       "      <td>1</td>\n",
       "    </tr>\n",
       "    <tr>\n",
       "      <th>3</th>\n",
       "      <td>4</td>\n",
       "      <td>Jailbirds New Orleans</td>\n",
       "      <td>TV-MA</td>\n",
       "      <td>1 Season</td>\n",
       "      <td>1</td>\n",
       "      <td>2</td>\n",
       "      <td>1</td>\n",
       "    </tr>\n",
       "    <tr>\n",
       "      <th>4</th>\n",
       "      <td>5</td>\n",
       "      <td>Kota Factory</td>\n",
       "      <td>TV-MA</td>\n",
       "      <td>2 Seasons</td>\n",
       "      <td>1</td>\n",
       "      <td>2</td>\n",
       "      <td>1</td>\n",
       "    </tr>\n",
       "  </tbody>\n",
       "</table>\n",
       "</div>"
      ],
      "text/plain": [
       "   show_id                  title rating   duration  year_id  type_id  \\\n",
       "0        1   Dick Johnson Is Dead  PG-13     90 min        2        1   \n",
       "1        2          Blood & Water  TV-MA  2 Seasons        1        2   \n",
       "2        3              Ganglands  TV-MA   1 Season        1        2   \n",
       "3        4  Jailbirds New Orleans  TV-MA   1 Season        1        2   \n",
       "4        5           Kota Factory  TV-MA  2 Seasons        1        2   \n",
       "\n",
       "   platform_id  \n",
       "0            1  \n",
       "1            1  \n",
       "2            1  \n",
       "3            1  \n",
       "4            1  "
      ]
     },
     "execution_count": 40,
     "metadata": {},
     "output_type": "execute_result"
    }
   ],
   "source": [
    "df_titles_final.head()"
   ]
  }
 ],
 "metadata": {
  "kernelspec": {
   "display_name": "base",
   "language": "python",
   "name": "python3"
  },
  "language_info": {
   "codemirror_mode": {
    "name": "ipython",
    "version": 3
   },
   "file_extension": ".py",
   "mimetype": "text/x-python",
   "name": "python",
   "nbconvert_exporter": "python",
   "pygments_lexer": "ipython3",
   "version": "3.13.5"
  }
 },
 "nbformat": 4,
 "nbformat_minor": 5
}
