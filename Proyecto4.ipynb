{
 "cells": [
  {
   "cell_type": "code",
   "execution_count": 2,
   "id": "99fdcd39",
   "metadata": {},
   "outputs": [],
   "source": [
    "import pandas as pd"
   ]
  },
  {
   "cell_type": "markdown",
   "id": "6aa2ae7c",
   "metadata": {},
   "source": [
    "## Proyecto 4 \n",
    "### Vamos a coger las bases de datos de netflix, disney y prime para poder relacionar las distintas columnas según su contenido. Después de poder unificar los 3 datasets pasaremos a MySQL para llevar a cabo las relaciones"
   ]
  },
  {
   "cell_type": "markdown",
   "id": "0e1c6698",
   "metadata": {},
   "source": [
    "#### Cargamos los CSV"
   ]
  },
  {
   "cell_type": "code",
   "execution_count": 3,
   "id": "ae999786",
   "metadata": {},
   "outputs": [],
   "source": [
    "netflix = pd.read_csv(\"CSV/netflix_titles.csv\")\n",
    "disney = pd.read_csv(\"CSV/disney_plus_titles.csv\")\n",
    "prime = pd.read_csv(\"CSV/amazon_prime_titles.csv\")"
   ]
  },
  {
   "cell_type": "markdown",
   "id": "ffb6f85c",
   "metadata": {},
   "source": [
    "#### Quitamos las columnas de 'date_added' y 'description'"
   ]
  },
  {
   "cell_type": "code",
   "execution_count": null,
   "id": "bfa5c8e7",
   "metadata": {},
   "outputs": [],
   "source": [
    "netflix = netflix.drop(columns=['date_added', 'description'])\n",
    "prime = prime.drop(columns=['date_added', 'description'])\n",
    "disney = disney.drop(columns=['date_added', 'description'])"
   ]
  }
 ],
 "metadata": {
  "kernelspec": {
   "display_name": "Python 3",
   "language": "python",
   "name": "python3"
  },
  "language_info": {
   "codemirror_mode": {
    "name": "ipython",
    "version": 3
   },
   "file_extension": ".py",
   "mimetype": "text/x-python",
   "name": "python",
   "nbconvert_exporter": "python",
   "pygments_lexer": "ipython3",
   "version": "3.11.0"
  }
 },
 "nbformat": 4,
 "nbformat_minor": 5
}
