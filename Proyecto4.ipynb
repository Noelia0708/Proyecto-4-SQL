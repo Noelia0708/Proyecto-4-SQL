{
 "cells": [
  {
   "cell_type": "code",
   "execution_count": 16,
   "id": "f24274f4",
   "metadata": {},
   "outputs": [],
   "source": [
    "import pandas as pd\n",
    "import numpy as np"
   ]
  },
  {
   "cell_type": "code",
   "execution_count": 17,
   "id": "6dc341b3",
   "metadata": {},
   "outputs": [],
   "source": [
    "df_original = pd.read_csv(\"CSV/proyecto4.csv\")\n"
   ]
  },
  {
   "cell_type": "code",
   "execution_count": 18,
   "id": "bd177c2a",
   "metadata": {},
   "outputs": [
    {
     "data": {
      "text/plain": [
       "Index(['show_id', 'type', 'title', 'director', 'cast', 'country',\n",
       "       'release_year', 'rating', 'duration', 'listed_in', 'plataforma'],\n",
       "      dtype='object')"
      ]
     },
     "execution_count": 18,
     "metadata": {},
     "output_type": "execute_result"
    }
   ],
   "source": [
    "df_original.columns"
   ]
  },
  {
   "cell_type": "code",
   "execution_count": 19,
   "id": "5870afe0",
   "metadata": {},
   "outputs": [],
   "source": [
    "# Crear tabla con los tipos \n",
    "data_tipos = [{'type_id': 1, 'type_name': 'Movie'}, {'type_id': 2, 'type_name': 'TV Show'}]\n",
    "\n",
    "df_tipos = pd.DataFrame(data_tipos)\n",
    "\n",
    "# Guardar la tabla como un archivo CSV\n",
    "df_tipos.to_csv('tabla_tipos.csv', index=False)"
   ]
  },
  {
   "cell_type": "code",
   "execution_count": 20,
   "id": "966771e7",
   "metadata": {},
   "outputs": [],
   "source": [
    "# Crear tabla de directores\n",
    "\n",
    "df_directores = df_original[['show_id', 'director']].copy()\n",
    "\n",
    "\n",
    "df_directores['director'] = df_directores['director'].fillna('') \n",
    "\n",
    "df_directores = df_directores.assign(director=df_directores['director'].str.split(', ')).explode('director')\n",
    "\n",
    "df_directores['director'] = df_directores['director'].str.strip()\n",
    "\n",
    "df_directores = df_directores[df_directores['director'] != '']\n",
    "\n",
    "df_directores_final = df_directores['director'].drop_duplicates().reset_index(drop=True).to_frame()\n",
    "\n",
    "df_directores_final = df_directores_final.reset_index()\n",
    "df_directores_final = df_directores_final.rename(columns={'index': 'director_id', 'director': 'director_name'})\n",
    "\n",
    "# Asegurar que el ID empiece en 1\n",
    "df_directores_final['director_id'] = df_directores_final['director_id'] + 1\n",
    "\n",
    "# Guardar la tabla única de directores\n",
    "df_directores_final.to_csv('tabla_directores_referencia.csv', index=False)"
   ]
  },
  {
   "cell_type": "code",
   "execution_count": 21,
   "id": "12f7a7a3",
   "metadata": {},
   "outputs": [],
   "source": [
    "# Crear tabla de cast\n",
    "\n",
    "df_actores = df_original[['show_id', 'cast']].copy()\n",
    "\n",
    "df_actores['cast'] = df_actores['cast'].fillna('') \n",
    "\n",
    "# Se crea una fila única para cada actor, repitiendo el show_id.\n",
    "df_actores = df_actores.assign(cast=df_actores['cast'].str.split(', ')).explode('cast')\n",
    "\n",
    "df_actores['cast'] = df_actores['cast'].str.strip()\n",
    "\n",
    "df_actores = df_actores[df_actores['cast'] != '']\n",
    "\n",
    "df_actores_final = df_actores['cast'].drop_duplicates().reset_index(drop=True).to_frame()\n",
    "\n",
    "\n",
    "df_actores_final = df_actores_final.reset_index()\n",
    "df_actores_final = df_actores_final.rename(columns={'index': 'cast_id', 'cast': 'cast_name'})\n",
    "\n",
    "# Asegurar que el ID empiece en 1 \n",
    "df_actores_final['cast_id'] = df_actores_final['cast_id'] + 1\n",
    "\n",
    "# 4. Guardar la tabla única de actores\n",
    "df_actores_final.to_csv('tabla_actores_referencia.csv', index=False)"
   ]
  },
  {
   "cell_type": "code",
   "execution_count": 22,
   "id": "0e51259f",
   "metadata": {},
   "outputs": [],
   "source": [
    "# TABLA PLATAFORMA. \n",
    "plataforma = df_original['plataforma']\n",
    "valores_unicos = df_original['plataforma'].unique() #Sacar los valores unicos \n",
    "plataforma_unicos = pd.DataFrame({'plataforma': valores_unicos})\n",
    "plataforma_unicos['plataforma_id'] = range(1, len(plataforma_unicos) + 1)\n",
    "plataforma_unicos = plataforma_unicos[['plataforma_id', 'plataforma']]"
   ]
  },
  {
   "cell_type": "code",
   "execution_count": 23,
   "id": "db08b1e6",
   "metadata": {},
   "outputs": [],
   "source": [
    "year = df_original['release_year']\n",
    "valores_year = df_original['release_year'].unique()\n",
    "year_tratado = pd.DataFrame({'release_year': valores_year})\n",
    "year_unicos = year_tratado.sort_values(by='release_year', ascending=False)\n",
    "year_unicos['release_year_id'] = range(1,len(year_unicos) + 1)\n",
    "year_unicos = year_unicos[['release_year_id', 'release_year']]"
   ]
  },
  {
   "cell_type": "code",
   "execution_count": 24,
   "id": "bb93155d",
   "metadata": {},
   "outputs": [],
   "source": [
    "# Tratamiento de country como columna. Lo primero que hacemos es tratar los missing values. Después, normalizamos todo para poder quedarnos con el primer value que aparece\n",
    "df_original['country'] = df_original['country'].replace({'Missing values': 'Desconocido'})\n",
    "df_original['country'] = df_original['country'].astype(str).apply(lambda x: x.split(',')[0].strip())\n",
    "df_original['country'] = df_original['country'].apply(lambda x: x.split(',')[0].strip())"
   ]
  },
  {
   "cell_type": "code",
   "execution_count": 25,
   "id": "7089fcb4",
   "metadata": {},
   "outputs": [],
   "source": [
    "# TABLA COUNTRY\n",
    "country = df_original['country']\n",
    "valores_country = df_original['country'].unique()\n",
    "country_tratado = pd.DataFrame({'country': valores_country})\n",
    "country_unicos = country_tratado.sort_values(by='country', ascending=True)\n",
    "country_unicos['country_id'] = range(1,len(country_unicos) + 1)\n",
    "country_unicos = country_unicos[['country_id', 'country']]"
   ]
  },
  {
   "cell_type": "code",
   "execution_count": 26,
   "id": "7b708599",
   "metadata": {},
   "outputs": [],
   "source": [
    "# Tratamiento de genero como columna. Lo primero que hacemos es normalizar para poder tratar los values como valores unicos. Después, nos hemos quedado con los primeros valores \n",
    "df_original['listed_in'] = df_original['listed_in'].astype(str).apply(lambda x: x.split(',')[0].strip())\n",
    "df_original['listed_in'] = df_original['listed_in'].apply(lambda x: x.split(',')[0].strip())"
   ]
  },
  {
   "cell_type": "code",
   "execution_count": 27,
   "id": "be586c16",
   "metadata": {},
   "outputs": [],
   "source": [
    "#Tabla Genero\n",
    "genero = df_original['listed_in']\n",
    "valores_genero = df_original['listed_in'].unique()\n",
    "genero_tratado = pd.DataFrame({'listed_in': valores_genero})\n",
    "genero_unicos = genero_tratado.sort_values(by='listed_in', ascending=True)\n",
    "genero_unicos['listed_in_id'] = range(1,len(genero_unicos) + 1)\n",
    "genero_unicos = genero_unicos[['listed_in_id', 'listed_in']]"
   ]
  },
  {
   "cell_type": "code",
   "execution_count": 28,
   "id": "4d38f592",
   "metadata": {},
   "outputs": [],
   "source": [
    "# TABLA TITULOS\n",
    "titulo = df_original['title']\n",
    "titulo_unicos = df_original['title'].unique() #Sacar los valores unicos \n",
    "titulo_unicos = pd.DataFrame({'title': titulo_unicos})\n",
    "titulo_unicos['title_id'] = range(1, len(titulo_unicos) + 1)\n",
    "titulo_unicos = titulo_unicos[['title_id', 'title']]"
   ]
  },
  {
   "cell_type": "code",
   "execution_count": 29,
   "id": "fabc84d8",
   "metadata": {},
   "outputs": [],
   "source": [
    "plataforma_unicos.to_csv('CSV/plataforma.csv', index=False)\n",
    "year_unicos.to_csv('CSV/año.csv', index=False)\n",
    "country_unicos.to_csv('CSV/pais.csv', index=False)\n",
    "genero_unicos.to_csv('CSV/genero.csv', index=False)\n",
    "titulo_unicos.to_csv('CSV/titulo.csv', index=False)"
   ]
  }
 ],
 "metadata": {
  "kernelspec": {
   "display_name": "base",
   "language": "python",
   "name": "python3"
  },
  "language_info": {
   "codemirror_mode": {
    "name": "ipython",
    "version": 3
   },
   "file_extension": ".py",
   "mimetype": "text/x-python",
   "name": "python",
   "nbconvert_exporter": "python",
   "pygments_lexer": "ipython3",
   "version": "3.13.5"
  }
 },
 "nbformat": 4,
 "nbformat_minor": 5
}
