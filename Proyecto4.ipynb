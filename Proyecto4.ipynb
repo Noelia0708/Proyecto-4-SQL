{
 "cells": [
  {
   "cell_type": "code",
   "execution_count": 20,
   "id": "f24274f4",
   "metadata": {},
   "outputs": [],
   "source": [
    "import pandas as pd\n",
    "import numpy as np"
   ]
  },
  {
   "cell_type": "code",
   "execution_count": 31,
   "id": "6dc341b3",
   "metadata": {},
   "outputs": [],
   "source": [
    "df_original = pd.read_csv(r\"C:\\Users\\delam\\OneDrive\\Ironhack\\Proyecto-4-SQL\\CSV\\proyecto4.csv\")\n"
   ]
  },
  {
   "cell_type": "code",
   "execution_count": null,
   "id": "bd177c2a",
   "metadata": {},
   "outputs": [
    {
     "data": {
      "text/plain": [
       "Index(['show_id', 'type', 'title', 'director', 'cast', 'country',\n",
       "       'release_year', 'rating', 'duration', 'listed_in', 'plataforma'],\n",
       "      dtype='object')"
      ]
     },
     "execution_count": 9,
     "metadata": {},
     "output_type": "execute_result"
    }
   ],
   "source": [
    "df_original.columns"
   ]
  },
  {
   "cell_type": "code",
   "execution_count": 32,
   "id": "5870afe0",
   "metadata": {},
   "outputs": [],
   "source": [
    "# Crear tabla con los tipos \n",
    "data_tipos = [{'type_id': 1, 'type_name': 'Movie'}, {'type_id': 2, 'type_name': 'TV Show'}]\n",
    "\n",
    "df_tipos = pd.DataFrame(data_tipos)\n",
    "\n",
    "# Guardar la tabla como un archivo CSV\n",
    "df_tipos.to_csv('tabla_tipos.csv', index=False)"
   ]
  },
  {
   "cell_type": "code",
   "execution_count": 35,
   "id": "966771e7",
   "metadata": {},
   "outputs": [],
   "source": [
    "# Crear tabla de directores\n",
    "\n",
    "df_directores = df_original[['show_id', 'director']].copy()\n",
    "\n",
    "\n",
    "df_directores['director'] = df_directores['director'].fillna('') \n",
    "\n",
    "df_directores = df_directores.assign(director=df_directores['director'].str.split(', ')).explode('director')\n",
    "\n",
    "df_directores['director'] = df_directores['director'].str.strip()\n",
    "\n",
    "df_directores = df_directores[df_directores['director'] != '']\n",
    "\n",
    "df_directores_final = df_directores['director'].drop_duplicates().reset_index(drop=True).to_frame()\n",
    "\n",
    "df_directores_final = df_directores_final.reset_index()\n",
    "df_directores_final = df_directores_final.rename(columns={'index': 'director_id', 'director': 'director_name'})\n",
    "\n",
    "# Asegurar que el ID empiece en 1\n",
    "df_directores_final['director_id'] = df_directores_final['director_id'] + 1\n",
    "\n",
    "# Guardar la tabla única de directores\n",
    "df_directores_final.to_csv('tabla_directores_referencia.csv', index=False)"
   ]
  },
  {
   "cell_type": "code",
   "execution_count": 37,
   "id": "12f7a7a3",
   "metadata": {},
   "outputs": [],
   "source": [
    "# Crear tabla de cast\n",
    "\n",
    "df_actores = df_original[['show_id', 'cast']].copy()\n",
    "\n",
    "df_actores['cast'] = df_actores['cast'].fillna('') \n",
    "\n",
    "# Se crea una fila única para cada actor, repitiendo el show_id.\n",
    "df_actores = df_actores.assign(cast=df_actores['cast'].str.split(', ')).explode('cast')\n",
    "\n",
    "df_actores['cast'] = df_actores['cast'].str.strip()\n",
    "\n",
    "df_actores = df_actores[df_actores['cast'] != '']\n",
    "\n",
    "df_actores_final = df_actores['cast'].drop_duplicates().reset_index(drop=True).to_frame()\n",
    "\n",
    "\n",
    "df_actores_final = df_actores_final.reset_index()\n",
    "df_actores_final = df_actores_final.rename(columns={'index': 'cast_id', 'cast': 'cast_name'})\n",
    "\n",
    "# Asegurar que el ID empiece en 1 \n",
    "df_actores_final['cast_id'] = df_actores_final['cast_id'] + 1\n",
    "\n",
    "# 4. Guardar la tabla única de actores\n",
    "df_actores_final.to_csv('tabla_actores_referencia.csv', index=False)"
   ]
  }
 ],
 "metadata": {
  "kernelspec": {
   "display_name": "base",
   "language": "python",
   "name": "python3"
  },
  "language_info": {
   "codemirror_mode": {
    "name": "ipython",
    "version": 3
   },
   "file_extension": ".py",
   "mimetype": "text/x-python",
   "name": "python",
   "nbconvert_exporter": "python",
   "pygments_lexer": "ipython3",
   "version": "3.13.5"
  }
 },
 "nbformat": 4,
 "nbformat_minor": 5
}
